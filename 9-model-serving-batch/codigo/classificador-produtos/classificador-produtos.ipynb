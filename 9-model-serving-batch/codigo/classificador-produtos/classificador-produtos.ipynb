{
 "cells": [
  {
   "cell_type": "markdown",
   "metadata": {},
   "source": [
    "# Documentation"
   ]
  },
  {
   "cell_type": "markdown",
   "metadata": {},
   "source": [
    "# Sample"
   ]
  },
  {
   "cell_type": "code",
   "execution_count": 2,
   "metadata": {
    "marvin_cell": "acquisitor"
   },
   "outputs": [
    {
     "name": "stderr",
     "output_type": "stream",
     "text": [
      "[nltk_data] Downloading package stopwords to /root/nltk_data...\n",
      "[nltk_data]   Package stopwords is already up-to-date!\n"
     ]
    },
    {
     "data": {
      "text/html": [
       "<div>\n",
       "<style scoped>\n",
       "    .dataframe tbody tr th:only-of-type {\n",
       "        vertical-align: middle;\n",
       "    }\n",
       "\n",
       "    .dataframe tbody tr th {\n",
       "        vertical-align: top;\n",
       "    }\n",
       "\n",
       "    .dataframe thead th {\n",
       "        text-align: right;\n",
       "    }\n",
       "</style>\n",
       "<table border=\"1\" class=\"dataframe\">\n",
       "  <thead>\n",
       "    <tr style=\"text-align: right;\">\n",
       "      <th></th>\n",
       "      <th>categoria</th>\n",
       "      <th>tokens</th>\n",
       "      <th>strings</th>\n",
       "    </tr>\n",
       "  </thead>\n",
       "  <tbody>\n",
       "    <tr>\n",
       "      <th>0</th>\n",
       "      <td>livro</td>\n",
       "      <td>[hobbit, 7ª, ed, 2013, produto, novobilbo, bol...</td>\n",
       "      <td>hobbit 7ª ed 2013 produto novobilbo bolseiro h...</td>\n",
       "    </tr>\n",
       "    <tr>\n",
       "      <th>1</th>\n",
       "      <td>livro</td>\n",
       "      <td>[livro, it, coisa, stephen, king, produto, nov...</td>\n",
       "      <td>livro it coisa stephen king produto novodurant...</td>\n",
       "    </tr>\n",
       "    <tr>\n",
       "      <th>2</th>\n",
       "      <td>livro</td>\n",
       "      <td>[box, crônicas, gelo, fogo, pocket, 5, livros,...</td>\n",
       "      <td>box crônicas gelo fogo pocket 5 livros produto...</td>\n",
       "    </tr>\n",
       "    <tr>\n",
       "      <th>3</th>\n",
       "      <td>livro</td>\n",
       "      <td>[box, harry, potter, produto, novo, físico, sé...</td>\n",
       "      <td>box harry potter produto novo físico série har...</td>\n",
       "    </tr>\n",
       "    <tr>\n",
       "      <th>4</th>\n",
       "      <td>livro</td>\n",
       "      <td>[livro, origem, dan, brown, produto, novode, o...</td>\n",
       "      <td>livro origem dan brown produto novode onde vie...</td>\n",
       "    </tr>\n",
       "  </tbody>\n",
       "</table>\n",
       "</div>"
      ],
      "text/plain": [
       "  categoria                                             tokens  \\\n",
       "0     livro  [hobbit, 7ª, ed, 2013, produto, novobilbo, bol...   \n",
       "1     livro  [livro, it, coisa, stephen, king, produto, nov...   \n",
       "2     livro  [box, crônicas, gelo, fogo, pocket, 5, livros,...   \n",
       "3     livro  [box, harry, potter, produto, novo, físico, sé...   \n",
       "4     livro  [livro, origem, dan, brown, produto, novode, o...   \n",
       "\n",
       "                                             strings  \n",
       "0  hobbit 7ª ed 2013 produto novobilbo bolseiro h...  \n",
       "1  livro it coisa stephen king produto novodurant...  \n",
       "2  box crônicas gelo fogo pocket 5 livros produto...  \n",
       "3  box harry potter produto novo físico série har...  \n",
       "4  livro origem dan brown produto novode onde vie...  "
      ]
     },
     "execution_count": 2,
     "metadata": {},
     "output_type": "execute_result"
    }
   ],
   "source": [
    "import pandas as pd\n",
    "import nltk\n",
    "from nltk.corpus import stopwords\n",
    "\n",
    "nltk.download('stopwords')\n",
    "\n",
    "products_data = pd.read_csv(\"/data/produtos.csv\", delimiter=';', encoding='utf-8')\n",
    "\n",
    "# concatenando as colunas nome e descricao\n",
    "products_data['informacao'] = products_data['nome'] + products_data['descricao']\n",
    "# excluindo linhas com valor de informacao ou categoria NaN\n",
    "products_data.dropna(subset=['informacao', 'categoria'], inplace=True)\n",
    "products_data.drop(columns=['nome', 'descricao'], inplace=True)\n",
    "\n",
    "stop_words=set(stopwords.words(\"portuguese\"))\n",
    "# transforma a string em caixa baixa e remove stopwords\n",
    "products_data['sem_stopwords'] = products_data['informacao'].str.lower().apply(lambda x: ' '.join([word for word in x.split() if word not in (stop_words)]))\n",
    "tokenizer = nltk.RegexpTokenizer(r\"\\w+\")\n",
    "products_data['tokens'] = products_data['sem_stopwords'].apply(tokenizer.tokenize) # aplica o regex tokenizer\n",
    "products_data.drop(columns=['sem_stopwords','informacao'],inplace=True) # Exclui as colunas antigas\n",
    "\n",
    "products_data[\"strings\"]= products_data[\"tokens\"].str.join(\" \") # reunindo cada elemento da lista\n",
    "products_data.head()\n"
   ]
  },
  {
   "cell_type": "code",
   "execution_count": 3,
   "metadata": {
    "marvin_cell": "tpreparator"
   },
   "outputs": [],
   "source": [
    "from sklearn.feature_extraction.text import CountVectorizer\n",
    "from sklearn.naive_bayes import MultinomialNB\n",
    "from sklearn.model_selection import train_test_split\n",
    "from sklearn.pipeline import Pipeline\n",
    "\n",
    "X_train,X_test,y_train,y_test = train_test_split( # Separação dos dados para teste e treino\n",
    "    products_data[\"strings\"], \n",
    "    products_data[\"categoria\"], \n",
    "    test_size = 0.2, \n",
    "    random_state = 10\n",
    ")\n",
    "pipe = Pipeline([('vetorizador', CountVectorizer()), (\"classificador\", MultinomialNB())]) # novo"
   ]
  },
  {
   "cell_type": "code",
   "execution_count": 4,
   "metadata": {
    "marvin_cell": "trainer"
   },
   "outputs": [
    {
     "data": {
      "text/plain": [
       "['/model/classificador-produtos.joblib']"
      ]
     },
     "execution_count": 4,
     "metadata": {},
     "output_type": "execute_result"
    }
   ],
   "source": [
    "import joblib\n",
    "pipe.fit(X_train, y_train)\n",
    "joblib.dump(pipe, \"/model/classificador-produtos.joblib\")"
   ]
  },
  {
   "cell_type": "code",
   "execution_count": 5,
   "metadata": {
    "marvin_cell": "evaluator"
   },
   "outputs": [],
   "source": [
    "from sklearn.metrics import accuracy_score\n",
    "from sklearn import metrics\n",
    "\n",
    "y_prediction = pipe.predict(X_test)\n",
    "accuracy = accuracy_score(y_prediction, y_test)\n"
   ]
  },
  {
   "cell_type": "code",
   "execution_count": 6,
   "metadata": {},
   "outputs": [
    {
     "name": "stdout",
     "output_type": "stream",
     "text": [
      "Predicted values:\n",
      "brinquedo,brinquedo,livro\n"
     ]
    }
   ],
   "source": [
    "input_message = [\"Figura Transformers Prime War Deluxe - E9687 - Hasbro\",  \"Senhor dos aneis\", \"Senhor dos anéis\"]\n",
    "final_prediction = pipe.predict(input_message)\n",
    "print(\"Predicted values:\")\n",
    "print(\",\".join(final_prediction))"
   ]
  },
  {
   "cell_type": "code",
   "execution_count": 7,
   "metadata": {},
   "outputs": [
    {
     "data": {
      "text/plain": [
       "descricao    Figura Transformers Prime War Deluxe - E9687 -...\n",
       "dtype: object"
      ]
     },
     "execution_count": 7,
     "metadata": {},
     "output_type": "execute_result"
    }
   ],
   "source": [
    "d = {'descricao': 'Figura Transformers Prime War Deluxe - E9687 - Hasbro'}\n",
    "\n",
    "ser = pd.Series(data=d, index=['descricao'])\n",
    "\n",
    "ser"
   ]
  },
  {
   "cell_type": "code",
   "execution_count": 8,
   "metadata": {},
   "outputs": [
    {
     "data": {
      "text/plain": [
       "['Figura Transformers Prime War Deluxe - E9687 - Hasbro']"
      ]
     },
     "execution_count": 8,
     "metadata": {},
     "output_type": "execute_result"
    }
   ],
   "source": [
    "ser.tolist()"
   ]
  },
  {
   "cell_type": "code",
   "execution_count": 9,
   "metadata": {},
   "outputs": [],
   "source": [
    "import joblib\n",
    "pipe = joblib.load(\"/model/classificador-produtos.joblib\")"
   ]
  },
  {
   "cell_type": "code",
   "execution_count": 10,
   "metadata": {},
   "outputs": [
    {
     "name": "stdout",
     "output_type": "stream",
     "text": [
      "Predicted values:\n",
      "brinquedo\n"
     ]
    }
   ],
   "source": [
    "final_prediction = pipe.predict(ser.tolist())\n",
    "print(\"Predicted values:\")\n",
    "print(\",\".join(final_prediction))"
   ]
  },
  {
   "cell_type": "code",
   "execution_count": 11,
   "metadata": {},
   "outputs": [
    {
     "name": "stdout",
     "output_type": "stream",
     "text": [
      "Pipeline(steps=[('vetorizador', CountVectorizer()),\n",
      "                ('classificador', MultinomialNB())])\n"
     ]
    }
   ],
   "source": [
    "print(pipe)"
   ]
  },
  {
   "cell_type": "code",
   "execution_count": null,
   "metadata": {},
   "outputs": [],
   "source": []
  }
 ],
 "metadata": {
  "celltoolbar": "Tags",
  "interpreter": {
   "hash": "9cfa302408c137eb4fa067ba80b457ddf5eeda2c88d0c50593a7c47323f33115"
  },
  "kernelspec": {
   "display_name": "Python 3 (ipykernel)",
   "language": "python",
   "name": "python3"
  },
  "language_info": {
   "codemirror_mode": {
    "name": "ipython",
    "version": 3
   },
   "file_extension": ".py",
   "mimetype": "text/x-python",
   "name": "python",
   "nbconvert_exporter": "python",
   "pygments_lexer": "ipython3",
   "version": "3.10.11"
  }
 },
 "nbformat": 4,
 "nbformat_minor": 1
}
